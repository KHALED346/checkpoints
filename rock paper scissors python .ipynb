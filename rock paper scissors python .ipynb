{
 "cells": [
  {
   "cell_type": "raw",
   "id": "64786348",
   "metadata": {},
   "source": [
    "import random\n",
    "\n",
    "user_action = input(\"Enter a choice (rock, paper, scissors): \")\n",
    "possible_actions = [\"rock\", \"paper\", \"scissors\"]\n",
    "computer_action = random.choice(possible_actions)\n",
    "print(f\"\\nYou chose {user_action}, computer chose {computer_action}.\\n\")\n",
    "\n",
    "if user_action == computer_action:\n",
    "    print(f\"Both players selected {user_action}. It's a tie!\")\n",
    "elif user_action == \"rock\":\n",
    "    if computer_action == \"scissors\":\n",
    "        print(\"Rock smashes scissors! You win!\")\n",
    "    else:\n",
    "        print(\"Paper covers rock! You lose.\")\n",
    "elif user_action == \"paper\":\n",
    "    if computer_action == \"rock\":\n",
    "        print(\"Paper covers rock! You win!\")\n",
    "    else:\n",
    "        print(\"Scissors cuts paper! You lose.\")\n",
    "elif user_action == \"scissors\":\n",
    "    if computer_action == \"paper\":\n",
    "        print(\"Scissors cuts paper! You win!\")\n",
    "    else:\n",
    "        print(\"Rock smashes scissors! You lose.\")"
   ]
  },
  {
   "cell_type": "code",
   "execution_count": null,
   "id": "2850adae",
   "metadata": {},
   "outputs": [],
   "source": []
  },
  {
   "cell_type": "code",
   "execution_count": null,
   "id": "189315e8",
   "metadata": {},
   "outputs": [],
   "source": []
  }
 ],
 "metadata": {
  "kernelspec": {
   "display_name": "Python 3 (ipykernel)",
   "language": "python",
   "name": "python3"
  },
  "language_info": {
   "codemirror_mode": {
    "name": "ipython",
    "version": 3
   },
   "file_extension": ".py",
   "mimetype": "text/x-python",
   "name": "python",
   "nbconvert_exporter": "python",
   "pygments_lexer": "ipython3",
   "version": "3.10.9"
  }
 },
 "nbformat": 4,
 "nbformat_minor": 5
}
